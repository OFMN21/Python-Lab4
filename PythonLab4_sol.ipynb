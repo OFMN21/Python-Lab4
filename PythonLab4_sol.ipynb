{
 "cells": [
  {
   "attachments": {},
   "cell_type": "markdown",
   "metadata": {},
   "source": [
    "## Create a function that takes one parameter of type int, then it prints out the result formatted like the following pattern (if we give it 5 for example):\n",
    "### outuput:\n",
    "```\n",
    "5 4 3 2 1\n",
    "4 3 2 1\n",
    "3 2 1\n",
    "2 1\n",
    "1\n",
    "```\n"
   ]
  },
  {
   "cell_type": "code",
   "execution_count": 35,
   "metadata": {},
   "outputs": [
    {
     "name": "stdout",
     "output_type": "stream",
     "text": [
      "5 4 3 2 1 \n",
      "4 3 2 1 \n",
      "3 2 1 \n",
      "2 1 \n",
      "1 \n"
     ]
    }
   ],
   "source": [
    "# So the idea here is to do a nested for loop.\n",
    "\n",
    "def NumPattren(num):\n",
    "    for n in range(num,0,-1): # The range here will start from the value of num and goes down with a step size \"-1\" to 0 \"0 is excluded\"\n",
    "        for i in range(n,0,-1):# Same but will start at n note:with each iteration the n decreses \n",
    "            print(i, end=' ')\n",
    "        print(\"\")# print in the next line     \n",
    "\n",
    "# User Input \n",
    "number = int(input(\"Enter number\"))\n",
    "NumPattren(number) ##Call function "
   ]
  }
 ],
 "metadata": {
  "kernelspec": {
   "display_name": "Python 3",
   "language": "python",
   "name": "python3"
  },
  "language_info": {
   "codemirror_mode": {
    "name": "ipython",
    "version": 3
   },
   "file_extension": ".py",
   "mimetype": "text/x-python",
   "name": "python",
   "nbconvert_exporter": "python",
   "pygments_lexer": "ipython3",
   "version": "3.11.1"
  },
  "orig_nbformat": 4
 },
 "nbformat": 4,
 "nbformat_minor": 2
}
